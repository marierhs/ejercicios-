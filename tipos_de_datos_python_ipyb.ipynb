{
  "nbformat": 4,
  "nbformat_minor": 0,
  "metadata": {
    "colab": {
      "provenance": [],
      "authorship_tag": "ABX9TyOuyMPnfV5CCLqgBp19LA43",
      "include_colab_link": true
    },
    "kernelspec": {
      "name": "python3",
      "display_name": "Python 3"
    },
    "language_info": {
      "name": "python"
    }
  },
  "cells": [
    {
      "cell_type": "markdown",
      "metadata": {
        "id": "view-in-github",
        "colab_type": "text"
      },
      "source": [
        "<a href=\"https://colab.research.google.com/github/marierhs/ejercicios-/blob/main/tipos_de_datos_python_ipyb.ipynb\" target=\"_parent\"><img src=\"https://colab.research.google.com/assets/colab-badge.svg\" alt=\"Open In Colab\"/></a>"
      ]
    },
    {
      "cell_type": "markdown",
      "source": [
        " entero(int)"
      ],
      "metadata": {
        "id": "08lLrSQvRiEI"
      }
    },
    {
      "cell_type": "code",
      "execution_count": 1,
      "metadata": {
        "colab": {
          "base_uri": "https://localhost:8080/"
        },
        "id": "V8mWZQXjRf9N",
        "outputId": "c7db5e47-3553-4737-e6bf-efcfee90bfce"
      },
      "outputs": [
        {
          "output_type": "stream",
          "name": "stdout",
          "text": [
            "int: 1000 <class 'int'>\n"
          ]
        }
      ],
      "source": [
        "x = 1000\n",
        "print(\"int:\", x, type(x))"
      ]
    },
    {
      "cell_type": "markdown",
      "source": [
        "punto flotante(float)"
      ],
      "metadata": {
        "id": "oVEFGpHDZTHq"
      }
    },
    {
      "cell_type": "code",
      "source": [
        "pi = 3.1416\n",
        "print(\"float:\", pi, type(pi))"
      ],
      "metadata": {
        "colab": {
          "base_uri": "https://localhost:8080/"
        },
        "id": "lwXWX_8AZbIm",
        "outputId": "fffeacf6-4952-4fa2-a718-931ae20878f0"
      },
      "execution_count": 2,
      "outputs": [
        {
          "output_type": "stream",
          "name": "stdout",
          "text": [
            "float: 3.1416 <class 'float'>\n"
          ]
        }
      ]
    },
    {
      "cell_type": "markdown",
      "source": [
        "complejo(complex)"
      ],
      "metadata": {
        "id": "OZAjlOw_aFYB"
      }
    },
    {
      "cell_type": "code",
      "source": [
        "z = 3 + 4j\n",
        "print(\"complex:\", z, type(z))"
      ],
      "metadata": {
        "colab": {
          "base_uri": "https://localhost:8080/"
        },
        "id": "Y5opk3nMbV1V",
        "outputId": "991da1db-2f90-4ddf-fdee-0ec7ea7e078d"
      },
      "execution_count": 3,
      "outputs": [
        {
          "output_type": "stream",
          "name": "stdout",
          "text": [
            "complex: (3+4j) <class 'complex'>\n"
          ]
        }
      ]
    },
    {
      "cell_type": "markdown",
      "source": [
        "cadena(str)"
      ],
      "metadata": {
        "id": "OvLJdIqkbc1P"
      }
    },
    {
      "cell_type": "code",
      "source": [
        "nombre = \"notebook\"\n",
        "print(\"str:\", nombre, type(nombre))"
      ],
      "metadata": {
        "colab": {
          "base_uri": "https://localhost:8080/"
        },
        "id": "TpyqUWLTbtIk",
        "outputId": "bbfc9c84-c384-43fc-e86b-3fe5beaa0c91"
      },
      "execution_count": 4,
      "outputs": [
        {
          "output_type": "stream",
          "name": "stdout",
          "text": [
            "str: notebook <class 'str'>\n"
          ]
        }
      ]
    },
    {
      "cell_type": "markdown",
      "source": [
        "booleano(bool)"
      ],
      "metadata": {
        "id": "ebTpIdf7b5F7"
      }
    },
    {
      "cell_type": "code",
      "source": [
        "es_valido = True\n",
        "print(\"bool:\", es_valido, type(es_valido))"
      ],
      "metadata": {
        "colab": {
          "base_uri": "https://localhost:8080/"
        },
        "id": "y2gBS-FhcFVy",
        "outputId": "53a656de-50e5-4720-997b-d1aa8eb501ce"
      },
      "execution_count": 5,
      "outputs": [
        {
          "output_type": "stream",
          "name": "stdout",
          "text": [
            "bool: True <class 'bool'>\n"
          ]
        }
      ]
    },
    {
      "cell_type": "markdown",
      "source": [
        "diccionario(dict)"
      ],
      "metadata": {
        "id": "HMmGaEOXcLs-"
      }
    },
    {
      "cell_type": "code",
      "source": [
        "persona = {\"nombre\": \"Ana\", \"edad\": 25}\n",
        "print(\"dict:\", persona, type(persona))"
      ],
      "metadata": {
        "colab": {
          "base_uri": "https://localhost:8080/"
        },
        "id": "zGrs0ydhcoyN",
        "outputId": "78ce554c-5356-446b-fb11-c959a4eff9a9"
      },
      "execution_count": 9,
      "outputs": [
        {
          "output_type": "stream",
          "name": "stdout",
          "text": [
            "dict: {'nombre': 'Ana', 'edad': 25} <class 'dict'>\n"
          ]
        }
      ]
    },
    {
      "cell_type": "markdown",
      "source": [
        "lista(lis)"
      ],
      "metadata": {
        "id": "fiMtbcB5diDN"
      }
    },
    {
      "cell_type": "code",
      "source": [
        "numeros = [1, 2, 3, 4]\n",
        "print(\"list:\", numeros, type(numeros))"
      ],
      "metadata": {
        "colab": {
          "base_uri": "https://localhost:8080/"
        },
        "id": "GSw6oy1eeAZa",
        "outputId": "2f7e6214-de8b-44ca-ff2e-230c4a263bad"
      },
      "execution_count": 7,
      "outputs": [
        {
          "output_type": "stream",
          "name": "stdout",
          "text": [
            "list: [1, 2, 3, 4] <class 'list'>\n"
          ]
        }
      ]
    },
    {
      "cell_type": "markdown",
      "source": [
        "tupla(tuple)"
      ],
      "metadata": {
        "id": "RLU3K8KdeZNn"
      }
    },
    {
      "cell_type": "code",
      "source": [
        "cordenadas = (10, 20, 30)\n",
        "print(\"tuple:\", cordenadas, type(cordenadas))"
      ],
      "metadata": {
        "colab": {
          "base_uri": "https://localhost:8080/"
        },
        "id": "jb7A9DFmem96",
        "outputId": "f14b17e7-1a6d-4baa-e082-e2f3ad4e38b5"
      },
      "execution_count": 8,
      "outputs": [
        {
          "output_type": "stream",
          "name": "stdout",
          "text": [
            "tuple: (10, 20, 30) <class 'tuple'>\n"
          ]
        }
      ]
    },
    {
      "cell_type": "markdown",
      "source": [
        "conjunto(set)"
      ],
      "metadata": {
        "id": "25Iu_I0Fe-a-"
      }
    },
    {
      "cell_type": "code",
      "source": [
        "colores = {\"rojo\", \"verde\", \"azul\"}\n",
        "print(\"set:\", colores, type(colores))"
      ],
      "metadata": {
        "colab": {
          "base_uri": "https://localhost:8080/"
        },
        "id": "ycjnByHnfC3y",
        "outputId": "5fc0dd76-af78-4a08-9a0b-2f4a876e86c2"
      },
      "execution_count": 10,
      "outputs": [
        {
          "output_type": "stream",
          "name": "stdout",
          "text": [
            "set: {'azul', 'rojo', 'verde'} <class 'set'>\n"
          ]
        }
      ]
    },
    {
      "cell_type": "markdown",
      "source": [
        "conjunto inmutable8frozenset)"
      ],
      "metadata": {
        "id": "Abcs1zDLfmSe"
      }
    },
    {
      "cell_type": "code",
      "source": [
        "fs = frozenset([1, 2, 3, 3, 2])\n",
        "print(\"frozenset:\", fs, type(fs))"
      ],
      "metadata": {
        "colab": {
          "base_uri": "https://localhost:8080/"
        },
        "id": "ueijKpQdfloT",
        "outputId": "663be173-687c-4620-f2a0-d0ae08935d10"
      },
      "execution_count": 11,
      "outputs": [
        {
          "output_type": "stream",
          "name": "stdout",
          "text": [
            "frozenset: frozenset({1, 2, 3}) <class 'frozenset'>\n"
          ]
        }
      ]
    },
    {
      "cell_type": "markdown",
      "source": [
        "rango(range)"
      ],
      "metadata": {
        "id": "9erHmN1Mf40k"
      }
    },
    {
      "cell_type": "code",
      "source": [
        "r = range(1000)\n",
        "print(\"range:\", r, type(r))"
      ],
      "metadata": {
        "colab": {
          "base_uri": "https://localhost:8080/"
        },
        "id": "VadGrVgXf7SC",
        "outputId": "ca25f510-1485-486e-d26b-44d0ffd86a46"
      },
      "execution_count": 12,
      "outputs": [
        {
          "output_type": "stream",
          "name": "stdout",
          "text": [
            "range: range(0, 1000) <class 'range'>\n"
          ]
        }
      ]
    }
  ]
}