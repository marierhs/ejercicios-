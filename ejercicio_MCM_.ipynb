{
  "nbformat": 4,
  "nbformat_minor": 0,
  "metadata": {
    "colab": {
      "provenance": [],
      "authorship_tag": "ABX9TyMUHlBFM2qdIZaHYI/BX9wv",
      "include_colab_link": true
    },
    "kernelspec": {
      "name": "python3",
      "display_name": "Python 3"
    },
    "language_info": {
      "name": "python"
    }
  },
  "cells": [
    {
      "cell_type": "markdown",
      "metadata": {
        "id": "view-in-github",
        "colab_type": "text"
      },
      "source": [
        "<a href=\"https://colab.research.google.com/github/marierhs/ejercicios-/blob/main/ejercicio_MCM_.ipynb\" target=\"_parent\"><img src=\"https://colab.research.google.com/assets/colab-badge.svg\" alt=\"Open In Colab\"/></a>"
      ]
    },
    {
      "cell_type": "code",
      "execution_count": 3,
      "metadata": {
        "colab": {
          "base_uri": "https://localhost:8080/"
        },
        "id": "zABxIL9ehVk1",
        "outputId": "ebf12264-6d6e-43d7-d58e-5a28aa9c7a56"
      },
      "outputs": [
        {
          "output_type": "stream",
          "name": "stdout",
          "text": [
            "ingrese el primer numero:45\n",
            "ingrese el segundo numero:5\n",
            "El MCM es: 45\n"
          ]
        }
      ],
      "source": [
        "def gcd(a, b):\n",
        "    while b != 0:\n",
        "          r = a % b\n",
        "          a = b\n",
        "          b = r\n",
        "    return a\n",
        "\n",
        "def mcm(a,b):\n",
        "    return abs(a * b) // gcd(a,b)\n",
        "\n",
        "num1 = int(input(\"ingrese el primer numero:\"))\n",
        "num2 = int(input(\"ingrese el segundo numero:\"))\n",
        "print(\"El MCM es:\", mcm(num1, num2))"
      ]
    }
  ]
}