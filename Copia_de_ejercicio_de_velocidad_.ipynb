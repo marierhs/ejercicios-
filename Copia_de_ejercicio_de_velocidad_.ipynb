{
  "nbformat": 4,
  "nbformat_minor": 0,
  "metadata": {
    "colab": {
      "provenance": [],
      "authorship_tag": "ABX9TyPpJ9vSbqJTgC2Gj7MviqfP",
      "include_colab_link": true
    },
    "kernelspec": {
      "name": "python3",
      "display_name": "Python 3"
    },
    "language_info": {
      "name": "python"
    }
  },
  "cells": [
    {
      "cell_type": "markdown",
      "metadata": {
        "id": "view-in-github",
        "colab_type": "text"
      },
      "source": [
        "<a href=\"https://colab.research.google.com/github/marierhs/ejercicios-/blob/main/Copia_de_ejercicio_de_velocidad_.ipynb\" target=\"_parent\"><img src=\"https://colab.research.google.com/assets/colab-badge.svg\" alt=\"Open In Colab\"/></a>"
      ]
    },
    {
      "cell_type": "code",
      "source": [
        "d = float(input(\"ingrese la distancia en metros:\"))\n",
        "t = float(input(\"ingrese el tiempo en segundos:\"))\n",
        "v = d/t\n",
        "print(f\"la velocidad es{v} m/s\")"
      ],
      "metadata": {
        "colab": {
          "base_uri": "https://localhost:8080/"
        },
        "id": "z8VgQQsFf_sb",
        "outputId": "517b9103-753f-4d13-bd2d-d278ccc0a5c5"
      },
      "execution_count": null,
      "outputs": [
        {
          "output_type": "stream",
          "name": "stdout",
          "text": [
            "ingrese la distancia en metros:300\n",
            "ingrese el tiempo en segundos:40\n",
            "la velocidad es7.5 m/s\n"
          ]
        }
      ]
    }
  ]
}